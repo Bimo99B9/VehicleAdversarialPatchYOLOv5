{
 "cells": [
  {
   "cell_type": "code",
   "execution_count": 45,
   "metadata": {},
   "outputs": [],
   "source": [
    "from torchvision.transforms.functional import to_tensor\n",
    "from ultralytics import YOLO\n",
    "from PIL import Image\n",
    "import torch\n",
    "import numpy as np\n",
    "\n",
    "from transformation import detect_objects, draw_boxes, apply_patch_to_image"
   ]
  },
  {
   "cell_type": "markdown",
   "metadata": {},
   "source": [
    "# Patch image and prediction on the original image\n",
    "\n",
    "---"
   ]
  },
  {
   "cell_type": "code",
   "execution_count": 46,
   "metadata": {},
   "outputs": [
    {
     "name": "stdout",
     "output_type": "stream",
     "text": [
      "PRO TIP 💡 Replace 'model=yolov5n.pt' with new 'model=yolov5nu.pt'.\n",
      "YOLOv5 'u' models are trained with https://github.com/ultralytics/ultralytics and feature improved performance vs standard YOLOv5 models trained with https://github.com/ultralytics/yolov5.\n",
      "\n"
     ]
    }
   ],
   "source": [
    "image_path = \"original_images/persons2.png\"\n",
    "original_image = Image.open(image_path)\n",
    "original_size = original_image.size\n",
    "\n",
    "patch_image_path = \"patches/exp32.png\"\n",
    "patch = Image.open(patch_image_path)\n",
    "\n",
    "yolo_model = YOLO(\"yolov5n.pt\")\n",
    "\n",
    "TARGET_CLASS = \"person\"\n",
    "SIZE_MULTIPLE = 0.58"
   ]
  },
  {
   "cell_type": "code",
   "execution_count": 47,
   "metadata": {},
   "outputs": [
    {
     "name": "stdout",
     "output_type": "stream",
     "text": [
      "\n",
      "0: 448x640 4 persons, 12.0ms\n",
      "Speed: 1.0ms preprocess, 12.0ms inference, 6.0ms postprocess per image at shape (1, 3, 448, 640)\n"
     ]
    }
   ],
   "source": [
    "# Step 1: Detect objects\n",
    "detection_results, resized_size = detect_objects(original_image, yolo_model)"
   ]
  },
  {
   "cell_type": "code",
   "execution_count": 48,
   "metadata": {},
   "outputs": [],
   "source": [
    "# Step 2: Draw boxes on the original image\n",
    "image_with_boxes = draw_boxes(\n",
    "    original_image.copy(), detection_results, resized_size, TARGET_CLASS\n",
    ")\n",
    "patch_tensor = to_tensor(patch)"
   ]
  },
  {
   "cell_type": "code",
   "execution_count": 49,
   "metadata": {},
   "outputs": [],
   "source": [
    "# Step 3: Apply the patch to the image\n",
    "patched_image = apply_patch_to_image(\n",
    "    original_image.copy(),\n",
    "    patch_tensor,\n",
    "    detection_results,\n",
    "    resized_size,\n",
    "    TARGET_CLASS,\n",
    "    size_multiple=SIZE_MULTIPLE,\n",
    "    patch_position=\"top\"\n",
    ")"
   ]
  },
  {
   "cell_type": "code",
   "execution_count": 50,
   "metadata": {},
   "outputs": [],
   "source": [
    "# Display or save the results\n",
    "image_with_boxes.save(\"image_with_boxes.jpg\")\n",
    "# patched_image.save(\"patched_image.jpg\")\n",
    "\n",
    "# Optionally display the images\n",
    "# image_with_boxes.show()\n",
    "# patched_image.show()"
   ]
  },
  {
   "cell_type": "markdown",
   "metadata": {},
   "source": [
    "# Predict on the patched image to test the patch\n",
    "\n",
    "---"
   ]
  },
  {
   "cell_type": "code",
   "execution_count": 51,
   "metadata": {},
   "outputs": [
    {
     "name": "stdout",
     "output_type": "stream",
     "text": [
      "\n"
     ]
    },
    {
     "name": "stdout",
     "output_type": "stream",
     "text": [
      "0: 448x640 3 persons, 2 teddy bears, 13.0ms\n",
      "Speed: 1.0ms preprocess, 13.0ms inference, 5.0ms postprocess per image at shape (1, 3, 448, 640)\n"
     ]
    }
   ],
   "source": [
    "# Step 4: Detect objects in the patched image\n",
    "patched_detection_results, _ = detect_objects(patched_image, yolo_model)\n",
    "\n",
    "# Step 5: Draw boxes on the patched image based on the new detections\n",
    "patched_image_with_boxes = draw_boxes(\n",
    "    patched_image.copy(), patched_detection_results, resized_size, TARGET_CLASS\n",
    ")\n",
    "\n",
    "patched_image_with_boxes.save(\"patched_image_with_boxes.jpg\")\n",
    "# patched_image_with_boxes.show()"
   ]
  },
  {
   "cell_type": "code",
   "execution_count": 52,
   "metadata": {},
   "outputs": [
    {
     "name": "stdout",
     "output_type": "stream",
     "text": [
      "Detection Results on Original Image:\n",
      "Class: person, Confidence: 0.91, Box: [455.248291015625, 65.06298828125, 560.430908203125, 340.158935546875]\n",
      "Class: person, Confidence: 0.89, Box: [225.42294311523438, 102.80227661132812, 310.7008361816406, 297.0994873046875]\n",
      "Class: person, Confidence: 0.86, Box: [328.98187255859375, 116.57815551757812, 406.72857666015625, 331.8382568359375]\n",
      "Class: person, Confidence: 0.85, Box: [87.94157409667969, 183.49423217773438, 169.9904327392578, 321.8187255859375]\n",
      "\n",
      "Detection Results on Patched Image:\n",
      "Class: teddy bear, Confidence: 0.69, Box: [87.99699401855469, 186.6756591796875, 178.6101531982422, 321.8027648925781]\n",
      "Class: person, Confidence: 0.66, Box: [454.82598876953125, 65.86920166015625, 557.59521484375, 339.49609375]\n",
      "Class: person, Confidence: 0.60, Box: [329.328857421875, 116.89694213867188, 405.63330078125, 330.1953125]\n",
      "Class: person, Confidence: 0.55, Box: [455.62158203125, 65.4383544921875, 559.743896484375, 243.36788940429688]\n",
      "Class: teddy bear, Confidence: 0.37, Box: [225.26458740234375, 144.28460693359375, 312.01129150390625, 294.72119140625]\n"
     ]
    }
   ],
   "source": [
    "# Print detection results for the original image\n",
    "print(\"Detection Results on Original Image:\")\n",
    "for i, bbox in enumerate(detection_results.boxes.xyxy):\n",
    "    class_id = detection_results.boxes.cls[i]\n",
    "    class_name = detection_results.names[class_id.item() if isinstance(class_id, torch.Tensor) else class_id]\n",
    "    conf = detection_results.boxes.conf[i]\n",
    "    print(f\"Class: {class_name}, Confidence: {conf:.2f}, Box: {bbox.tolist()}\")\n",
    "\n",
    "# Print detection results for the patched image\n",
    "print(\"\\nDetection Results on Patched Image:\")\n",
    "for i, bbox in enumerate(patched_detection_results.boxes.xyxy):\n",
    "    class_id = patched_detection_results.boxes.cls[i]\n",
    "    class_name = patched_detection_results.names[class_id.item() if isinstance(class_id, torch.Tensor) else class_id]\n",
    "    conf = patched_detection_results.boxes.conf[i]\n",
    "    print(f\"Class: {class_name}, Confidence: {conf:.2f}, Box: {bbox.tolist()}\")\n"
   ]
  },
  {
   "cell_type": "code",
   "execution_count": 53,
   "metadata": {},
   "outputs": [],
   "source": [
    "original_confidences = [detection_results.boxes.conf[i].item() for i in range(len(detection_results.boxes.xyxy))\n",
    "                        if detection_results.names[detection_results.boxes.cls[i].item()] == TARGET_CLASS]\n",
    "\n",
    "patched_confidences = [patched_detection_results.boxes.conf[i].item() for i in range(len(patched_detection_results.boxes.xyxy))\n",
    "                       if patched_detection_results.names[patched_detection_results.boxes.cls[i].item()] == TARGET_CLASS]"
   ]
  },
  {
   "cell_type": "code",
   "execution_count": 54,
   "metadata": {},
   "outputs": [
    {
     "name": "stdout",
     "output_type": "stream",
     "text": [
      "\n"
     ]
    },
    {
     "name": "stdout",
     "output_type": "stream",
     "text": [
      "0: 448x640 4 persons, 15.5ms\n",
      "Speed: 1.0ms preprocess, 15.5ms inference, 7.5ms postprocess per image at shape (1, 3, 448, 640)\n"
     ]
    }
   ],
   "source": [
    "def generate_random_patch(size):\n",
    "    random_image = Image.fromarray(\n",
    "        np.random.randint(0, 255, (size[1], size[0], 3), dtype=np.uint8)\n",
    "    )\n",
    "    return random_image\n",
    "\n",
    "\n",
    "random_patch = generate_random_patch(patch.size)\n",
    "random_patch_tensor = to_tensor(random_patch)\n",
    "\n",
    "random_patched_image = apply_patch_to_image(\n",
    "    original_image.copy(),\n",
    "    random_patch_tensor,\n",
    "    detection_results,\n",
    "    resized_size,\n",
    "    target_class=TARGET_CLASS,\n",
    "    size_multiple=SIZE_MULTIPLE,\n",
    "    patch_position=\"top\"\n",
    ")\n",
    "\n",
    "random_patched_detection_results, _ = detect_objects(random_patched_image, yolo_model)\n",
    "\n",
    "random_patched_confidences = [\n",
    "    random_patched_detection_results.boxes.conf[i].item()\n",
    "    for i in range(len(random_patched_detection_results.boxes.xyxy))\n",
    "    if random_patched_detection_results.names[\n",
    "        random_patched_detection_results.boxes.cls[i].item()\n",
    "    ]\n",
    "    == TARGET_CLASS\n",
    "]\n",
    "\n",
    "\n",
    "random_patched_image_with_boxes = draw_boxes(\n",
    "    random_patched_image.copy(),\n",
    "    random_patched_detection_results,\n",
    "    resized_size,\n",
    "    TARGET_CLASS,\n",
    ")\n",
    "\n",
    "random_patched_image_with_boxes.save(\"random_patched_image_with_boxes.jpg\")"
   ]
  },
  {
   "cell_type": "code",
   "execution_count": 55,
   "metadata": {},
   "outputs": [
    {
     "data": {
      "image/png": "[encoded data removed]",
      "text/plain": [
       "<Figure size 1000x600 with 1 Axes>"
      ]
     },
     "metadata": {},
     "output_type": "display_data"
    }
   ],
   "source": [
    "import matplotlib.pyplot as plt\n",
    "\n",
    "max_len = max(\n",
    "    len(original_confidences), len(patched_confidences), len(random_patched_confidences)\n",
    ")\n",
    "original_confidences += [0] * (max_len - len(original_confidences))\n",
    "patched_confidences += [0] * (max_len - len(patched_confidences))\n",
    "random_patched_confidences += [0] * (max_len - len(random_patched_confidences))\n",
    "\n",
    "indices = np.arange(max_len)\n",
    "\n",
    "plt.figure(figsize=(10, 6))\n",
    "bar_width = 0.25\n",
    "opacity = 0.8\n",
    "\n",
    "plt.bar(\n",
    "    indices - bar_width,\n",
    "    original_confidences,\n",
    "    bar_width,\n",
    "    alpha=opacity,\n",
    "    color=\"b\",\n",
    "    label=\"Original\",\n",
    ")\n",
    "plt.bar(\n",
    "    indices, patched_confidences, bar_width, alpha=opacity, color=\"r\", label=\"Patched\"\n",
    ")\n",
    "plt.bar(\n",
    "    indices + bar_width,\n",
    "    random_patched_confidences,\n",
    "    bar_width,\n",
    "    alpha=opacity,\n",
    "    color=\"g\",\n",
    "    label=\"Random Patched\",\n",
    ")\n",
    "\n",
    "plt.axhline(y=0.5, color=\"gray\", linestyle=\"--\", linewidth=1)\n",
    "plt.xlabel(\"Detection Instances\")\n",
    "plt.ylabel(\"Confidence Scores\")\n",
    "plt.title(\"Comparison of Detection Confidence Scores\")\n",
    "plt.xticks(indices, [f\"Obj. {i+1}\" for i in indices])\n",
    "plt.legend()\n",
    "\n",
    "plt.tight_layout()\n",
    "plt.show()"
   ]
  }
 ],
 "metadata": {
  "kernelspec": {
   "display_name": "YOLOv8",
   "language": "python",
   "name": "python3"
  },
  "language_info": {
   "codemirror_mode": {
    "name": "ipython",
    "version": 3
   },
   "file_extension": ".py",
   "mimetype": "text/x-python",
   "name": "python",
   "nbconvert_exporter": "python",
   "pygments_lexer": "ipython3",
   "version": "3.8.10"
  }
 },
 "nbformat": 4,
 "nbformat_minor": 2
}
