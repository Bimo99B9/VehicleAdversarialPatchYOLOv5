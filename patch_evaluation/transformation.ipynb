{
 "cells": [
  {
   "cell_type": "code",
   "execution_count": 116,
   "metadata": {},
   "outputs": [],
   "source": [
    "from torchvision.transforms.functional import to_tensor\n",
    "from ultralytics import YOLO\n",
    "from PIL import Image\n",
    "import torch\n",
    "\n",
    "from transformation import detect_objects, draw_boxes, apply_patch_to_image"
   ]
  },
  {
   "cell_type": "markdown",
   "metadata": {},
   "source": [
    "# Patch image and prediction on the original image\n",
    "\n",
    "---"
   ]
  },
  {
   "cell_type": "code",
   "execution_count": 117,
   "metadata": {},
   "outputs": [],
   "source": [
    "# Load the original image\n",
    "image_path = \"original_images/persons2.png\"\n",
    "original_image = Image.open(image_path)\n",
    "original_size = original_image.size\n",
    "\n",
    "patch_image_path = \"patches/v4tiny.png\"\n",
    "patch = Image.open(patch_image_path)\n",
    "\n",
    "yolo_model = YOLO(\"yolov5n.pt\")\n",
    "\n",
    "TARGET_CLASS = 'person'\n",
    "SIZE_MULTIPLE = 0.6"
   ]
  },
  {
   "cell_type": "code",
   "execution_count": 118,
   "metadata": {},
   "outputs": [
    {
     "name": "stdout",
     "output_type": "stream",
     "text": [
      "\n",
      "0: 448x640 4 persons, 43.8ms\n",
      "Speed: 1.5ms preprocess, 43.8ms inference, 5.7ms postprocess per image at shape (1, 3, 448, 640)\n"
     ]
    }
   ],
   "source": [
    "# Step 1: Detect objects\n",
    "detection_results, resized_size = detect_objects(original_image, yolo_model)"
   ]
  },
  {
   "cell_type": "code",
   "execution_count": 119,
   "metadata": {},
   "outputs": [],
   "source": [
    "# Step 2: Draw boxes on the original image\n",
    "image_with_boxes = draw_boxes(original_image.copy(), detection_results, resized_size, TARGET_CLASS)\n",
    "# Convert the loaded patch image to a tensor before applying\n",
    "patch_tensor = to_tensor(patch)"
   ]
  },
  {
   "cell_type": "code",
   "execution_count": 120,
   "metadata": {},
   "outputs": [],
   "source": [
    "# Step 4: Apply the patch to the image\n",
    "patched_image = apply_patch_to_image(original_image.copy(), patch_tensor, detection_results, resized_size, TARGET_CLASS, size_multiple=SIZE_MULTIPLE)"
   ]
  },
  {
   "cell_type": "code",
   "execution_count": 121,
   "metadata": {},
   "outputs": [],
   "source": [
    "# Display or save the results\n",
    "image_with_boxes.save(\"image_with_boxes.jpg\")\n",
    "# patched_image.save(\"patched_image.jpg\")\n",
    "\n",
    "# Optionally display the images\n",
    "# image_with_boxes.show()\n",
    "# patched_image.show()"
   ]
  },
  {
   "cell_type": "markdown",
   "metadata": {},
   "source": [
    "# Predict on the patched image to test the patch\n",
    "\n",
    "---"
   ]
  },
  {
   "cell_type": "code",
   "execution_count": 122,
   "metadata": {},
   "outputs": [
    {
     "name": "stdout",
     "output_type": "stream",
     "text": [
      "\n",
      "0: 448x640 4 persons, 1 sports ball, 3 teddy bears, 10.5ms\n",
      "Speed: 1.0ms preprocess, 10.5ms inference, 3.0ms postprocess per image at shape (1, 3, 448, 640)\n"
     ]
    }
   ],
   "source": [
    "# Step 5: Detect objects in the patched image\n",
    "patched_detection_results, _ = detect_objects(patched_image, yolo_model)\n",
    "\n",
    "# Step 6: Draw boxes on the patched image based on the new detections\n",
    "patched_image_with_boxes = draw_boxes(patched_image.copy(), patched_detection_results, resized_size, TARGET_CLASS)\n",
    "\n",
    "# Save or display the patched image with new detection boxes\n",
    "patched_image_with_boxes.save(\"patched_image_with_boxes.jpg\")\n",
    "# patched_image_with_boxes.show()"
   ]
  },
  {
   "cell_type": "code",
   "execution_count": 123,
   "metadata": {},
   "outputs": [
    {
     "name": "stdout",
     "output_type": "stream",
     "text": [
      "Detection Results on Original Image:\n",
      "Class: person, Confidence: 0.91, Box: [329.17864990234375, 116.1265869140625, 409.24102783203125, 328.9501037597656]\n",
      "Class: person, Confidence: 0.91, Box: [226.8689422607422, 103.13925170898438, 313.10882568359375, 296.859375]\n",
      "Class: person, Confidence: 0.90, Box: [455.0115966796875, 65.75091552734375, 560.5938720703125, 341.68353271484375]\n",
      "Class: person, Confidence: 0.87, Box: [86.1150894165039, 184.34945678710938, 175.93765258789062, 321.358642578125]\n",
      "\n",
      "Detection Results on Patched Image:\n",
      "Class: person, Confidence: 0.80, Box: [223.81732177734375, 102.36004638671875, 314.44525146484375, 296.0397644042969]\n",
      "Class: person, Confidence: 0.79, Box: [328.48931884765625, 116.12994384765625, 409.48663330078125, 328.55487060546875]\n",
      "Class: person, Confidence: 0.65, Box: [456.14739990234375, 65.36181640625, 561.1865844726562, 238.11285400390625]\n",
      "Class: person, Confidence: 0.51, Box: [455.30743408203125, 65.60379028320312, 560.9586791992188, 339.5242614746094]\n",
      "Class: sports ball, Confidence: 0.41, Box: [343.6759948730469, 193.9862518310547, 393.3881530761719, 243.7506866455078]\n",
      "Class: teddy bear, Confidence: 0.37, Box: [343.84393310546875, 194.77406311035156, 392.69989013671875, 243.8727569580078]\n",
      "Class: teddy bear, Confidence: 0.31, Box: [243.77566528320312, 170.27284240722656, 295.5496520996094, 223.1370391845703]\n",
      "Class: teddy bear, Confidence: 0.27, Box: [474.464111328125, 168.06240844726562, 540.8232421875, 233.59109497070312]\n"
     ]
    }
   ],
   "source": [
    "# Print detection results for the original image\n",
    "print(\"Detection Results on Original Image:\")\n",
    "for i, bbox in enumerate(detection_results.boxes.xyxy):\n",
    "    class_id = detection_results.boxes.cls[i]\n",
    "    class_name = detection_results.names[class_id.item() if isinstance(class_id, torch.Tensor) else class_id]\n",
    "    conf = detection_results.boxes.conf[i]\n",
    "    print(f\"Class: {class_name}, Confidence: {conf:.2f}, Box: {bbox.tolist()}\")\n",
    "\n",
    "# Print detection results for the patched image\n",
    "print(\"\\nDetection Results on Patched Image:\")\n",
    "for i, bbox in enumerate(patched_detection_results.boxes.xyxy):\n",
    "    class_id = patched_detection_results.boxes.cls[i]\n",
    "    class_name = patched_detection_results.names[class_id.item() if isinstance(class_id, torch.Tensor) else class_id]\n",
    "    conf = patched_detection_results.boxes.conf[i]\n",
    "    print(f\"Class: {class_name}, Confidence: {conf:.2f}, Box: {bbox.tolist()}\")\n"
   ]
  },
  {
   "cell_type": "code",
   "execution_count": 124,
   "metadata": {},
   "outputs": [],
   "source": [
    "# Collect confidence scores for the target class 'car' from both original and patched images\n",
    "original_confidences = [detection_results.boxes.conf[i].item() for i in range(len(detection_results.boxes.xyxy))\n",
    "                        if detection_results.names[detection_results.boxes.cls[i].item()] == TARGET_CLASS]\n",
    "\n",
    "patched_confidences = [patched_detection_results.boxes.conf[i].item() for i in range(len(patched_detection_results.boxes.xyxy))\n",
    "                       if patched_detection_results.names[patched_detection_results.boxes.cls[i].item()] == TARGET_CLASS]"
   ]
  },
  {
   "cell_type": "code",
   "execution_count": 125,
   "metadata": {},
   "outputs": [
    {
     "name": "stdout",
     "output_type": "stream",
     "text": [
      "\n"
     ]
    },
    {
     "name": "stdout",
     "output_type": "stream",
     "text": [
      "0: 448x640 4 persons, 9.0ms\n",
      "Speed: 0.5ms preprocess, 9.0ms inference, 4.0ms postprocess per image at shape (1, 3, 448, 640)\n"
     ]
    }
   ],
   "source": [
    "# Generate a random patch (as an example)\n",
    "import numpy as np\n",
    "\n",
    "\n",
    "def generate_random_patch(size):\n",
    "    random_image = Image.fromarray(np.random.randint(0, 255, (size[1], size[0], 3), dtype=np.uint8))\n",
    "    return random_image\n",
    "\n",
    "# Apply a random patch to the image\n",
    "random_patch = generate_random_patch(patch.size)\n",
    "random_patch_tensor = to_tensor(random_patch)\n",
    "\n",
    "# Apply the random patch to the original image (You might need to adjust the function or the way you apply it)\n",
    "random_patched_image = apply_patch_to_image(original_image.copy(), random_patch_tensor, detection_results, resized_size, TARGET_CLASS, size_multiple=SIZE_MULTIPLE)\n",
    "\n",
    "# Detect objects in the randomly patched image\n",
    "random_patched_detection_results, _ = detect_objects(random_patched_image, yolo_model)\n",
    "\n",
    "# Collect confidence scores for the target class 'person' from the randomly patched image\n",
    "random_patched_confidences = [random_patched_detection_results.boxes.conf[i].item() for i in range(len(random_patched_detection_results.boxes.xyxy))\n",
    "                              if random_patched_detection_results.names[random_patched_detection_results.boxes.cls[i].item()] == TARGET_CLASS]\n",
    "\n",
    "\n",
    "random_patched_image_with_boxes = draw_boxes(random_patched_image.copy(), random_patched_detection_results, resized_size, TARGET_CLASS)\n",
    "\n",
    "# Save or display the patched image with new detection boxes\n",
    "random_patched_image_with_boxes.save(\"random_patched_image_with_boxes.jpg\")"
   ]
  },
  {
   "cell_type": "code",
   "execution_count": 126,
   "metadata": {},
   "outputs": [
    {
     "data": {
      "image/png": "[encoded data removed]",
      "text/plain": [
       "<Figure size 1000x600 with 1 Axes>"
      ]
     },
     "metadata": {},
     "output_type": "display_data"
    }
   ],
   "source": [
    "import matplotlib.pyplot as plt\n",
    "\n",
    "# Assuming equal or less number of detections on all images, pad the shorter lists for equal length\n",
    "max_len = max(len(original_confidences), len(patched_confidences), len(random_patched_confidences))\n",
    "original_confidences += [0] * (max_len - len(original_confidences))\n",
    "patched_confidences += [0] * (max_len - len(patched_confidences))\n",
    "random_patched_confidences += [0] * (max_len - len(random_patched_confidences))\n",
    "\n",
    "# Adjust the plotting code to include the new data\n",
    "indices = np.arange(max_len)\n",
    "\n",
    "plt.figure(figsize=(10, 6))\n",
    "bar_width = 0.25\n",
    "opacity = 0.8\n",
    "\n",
    "plt.bar(indices - bar_width, original_confidences, bar_width, alpha=opacity, color='b', label='Original')\n",
    "plt.bar(indices, patched_confidences, bar_width, alpha=opacity, color='r', label='Patched')\n",
    "plt.bar(indices + bar_width, random_patched_confidences, bar_width, alpha=opacity, color='g', label='Random Patched')\n",
    "\n",
    "plt.axhline(y=0.5, color='gray', linestyle='--', linewidth=1)\n",
    "plt.xlabel('Detection Instances')\n",
    "plt.ylabel('Confidence Scores')\n",
    "plt.title('Comparison of Detection Confidence Scores')\n",
    "plt.xticks(indices, [f'Obj. {i+1}' for i in indices])\n",
    "plt.legend()\n",
    "\n",
    "plt.tight_layout()\n",
    "plt.show()"
   ]
  }
 ],
 "metadata": {
  "kernelspec": {
   "display_name": "YOLOv8",
   "language": "python",
   "name": "python3"
  },
  "language_info": {
   "codemirror_mode": {
    "name": "ipython",
    "version": 3
   },
   "file_extension": ".py",
   "mimetype": "text/x-python",
   "name": "python",
   "nbconvert_exporter": "python",
   "pygments_lexer": "ipython3",
   "version": "3.8.10"
  }
 },
 "nbformat": 4,
 "nbformat_minor": 2
}
