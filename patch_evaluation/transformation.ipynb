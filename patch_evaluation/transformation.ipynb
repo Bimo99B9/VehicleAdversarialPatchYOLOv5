{
 "cells": [
  {
   "cell_type": "code",
   "execution_count": 100,
   "metadata": {},
   "outputs": [],
   "source": [
    "from torchvision.transforms.functional import to_tensor\n",
    "from ultralytics import YOLO\n",
    "from PIL import Image\n",
    "import torch\n",
    "import numpy as np\n",
    "\n",
    "from transformation import detect_objects, draw_boxes, apply_patch_to_image"
   ]
  },
  {
   "cell_type": "markdown",
   "metadata": {},
   "source": [
    "# Patch image and prediction on the original image\n",
    "\n",
    "---"
   ]
  },
  {
   "cell_type": "code",
   "execution_count": 101,
   "metadata": {},
   "outputs": [],
   "source": [
    "image_path = \"original_images/cars2.jpg\"\n",
    "original_image = Image.open(image_path)\n",
    "original_size = original_image.size\n",
    "\n",
    "patch_image_path = \"patches/visdrone_p.png\"\n",
    "patch = Image.open(patch_image_path)\n",
    "\n",
    "yolo_model = YOLO(\"yolov8n.pt\")\n",
    "\n",
    "TARGET_CLASS = \"car\"\n",
    "SIZE_MULTIPLE = 0.4"
   ]
  },
  {
   "cell_type": "code",
   "execution_count": 102,
   "metadata": {},
   "outputs": [
    {
     "name": "stdout",
     "output_type": "stream",
     "text": [
      "\n",
      "0: 448x640 3 cars, 1 truck, 42.0ms\n",
      "Speed: 1.0ms preprocess, 42.0ms inference, 5.0ms postprocess per image at shape (1, 3, 448, 640)\n"
     ]
    }
   ],
   "source": [
    "# Step 1: Detect objects\n",
    "detection_results, resized_size = detect_objects(original_image, yolo_model)"
   ]
  },
  {
   "cell_type": "code",
   "execution_count": 103,
   "metadata": {},
   "outputs": [],
   "source": [
    "# Step 2: Draw boxes on the original image\n",
    "image_with_boxes = draw_boxes(\n",
    "    original_image.copy(), detection_results, resized_size, TARGET_CLASS\n",
    ")\n",
    "patch_tensor = to_tensor(patch)"
   ]
  },
  {
   "cell_type": "code",
   "execution_count": 104,
   "metadata": {},
   "outputs": [],
   "source": [
    "# Step 3: Apply the patch to the image\n",
    "patched_image = apply_patch_to_image(\n",
    "    original_image.copy(),\n",
    "    patch_tensor,\n",
    "    detection_results,\n",
    "    resized_size,\n",
    "    TARGET_CLASS,\n",
    "    size_multiple=SIZE_MULTIPLE,\n",
    ")"
   ]
  },
  {
   "cell_type": "code",
   "execution_count": 105,
   "metadata": {},
   "outputs": [],
   "source": [
    "# Display or save the results\n",
    "image_with_boxes.save(\"image_with_boxes.jpg\")\n",
    "# patched_image.save(\"patched_image.jpg\")\n",
    "\n",
    "# Optionally display the images\n",
    "# image_with_boxes.show()\n",
    "# patched_image.show()"
   ]
  },
  {
   "cell_type": "markdown",
   "metadata": {},
   "source": [
    "# Predict on the patched image to test the patch\n",
    "\n",
    "---"
   ]
  },
  {
   "cell_type": "code",
   "execution_count": 106,
   "metadata": {},
   "outputs": [
    {
     "name": "stdout",
     "output_type": "stream",
     "text": [
      "\n"
     ]
    },
    {
     "name": "stdout",
     "output_type": "stream",
     "text": [
      "0: 448x640 4 persons, 3 cars, 2 trucks, 52.0ms\n",
      "Speed: 2.0ms preprocess, 52.0ms inference, 14.0ms postprocess per image at shape (1, 3, 448, 640)\n"
     ]
    }
   ],
   "source": [
    "# Step 4: Detect objects in the patched image\n",
    "patched_detection_results, _ = detect_objects(patched_image, yolo_model)\n",
    "\n",
    "# Step 5: Draw boxes on the patched image based on the new detections\n",
    "patched_image_with_boxes = draw_boxes(\n",
    "    patched_image.copy(), patched_detection_results, resized_size, TARGET_CLASS\n",
    ")\n",
    "\n",
    "patched_image_with_boxes.save(\"patched_image_with_boxes.jpg\")\n",
    "# patched_image_with_boxes.show()"
   ]
  },
  {
   "cell_type": "code",
   "execution_count": 107,
   "metadata": {},
   "outputs": [
    {
     "name": "stdout",
     "output_type": "stream",
     "text": [
      "Detection Results on Original Image:\n",
      "Class: car, Confidence: 0.88, Box: [359.8014831542969, 286.966064453125, 461.0782165527344, 348.9810791015625]\n",
      "Class: car, Confidence: 0.81, Box: [328.9475402832031, 263.96044921875, 398.4017028808594, 303.3900146484375]\n",
      "Class: car, Confidence: 0.78, Box: [163.28717041015625, 285.8782043457031, 261.8568115234375, 352.9557189941406]\n",
      "Class: truck, Confidence: 0.72, Box: [245.53868103027344, 264.1554260253906, 317.0562744140625, 314.1965637207031]\n",
      "\n",
      "Detection Results on Patched Image:\n",
      "Class: car, Confidence: 0.79, Box: [359.79632568359375, 287.162109375, 461.48992919921875, 348.3214111328125]\n",
      "Class: truck, Confidence: 0.69, Box: [245.45703125, 263.655029296875, 317.181640625, 314.34521484375]\n",
      "Class: person, Confidence: 0.50, Box: [197.28619384765625, 289.04388427734375, 216.64263916015625, 317.466064453125]\n",
      "Class: person, Confidence: 0.48, Box: [214.71197509765625, 288.9655456542969, 228.937255859375, 315.9512023925781]\n",
      "Class: truck, Confidence: 0.48, Box: [162.73294067382812, 287.59869384765625, 261.1489562988281, 353.74176025390625]\n",
      "Class: car, Confidence: 0.46, Box: [329.0718994140625, 276.3458251953125, 372.523681640625, 302.81640625]\n",
      "Class: car, Confidence: 0.30, Box: [329.37158203125, 276.130615234375, 396.1435546875, 302.7525634765625]\n",
      "Class: person, Confidence: 0.27, Box: [181.01486206054688, 289.08441162109375, 218.14743041992188, 316.69805908203125]\n",
      "Class: person, Confidence: 0.26, Box: [353.9410400390625, 261.41796875, 364.8756103515625, 278.18505859375]\n"
     ]
    }
   ],
   "source": [
    "# Print detection results for the original image\n",
    "print(\"Detection Results on Original Image:\")\n",
    "for i, bbox in enumerate(detection_results.boxes.xyxy):\n",
    "    class_id = detection_results.boxes.cls[i]\n",
    "    class_name = detection_results.names[class_id.item() if isinstance(class_id, torch.Tensor) else class_id]\n",
    "    conf = detection_results.boxes.conf[i]\n",
    "    print(f\"Class: {class_name}, Confidence: {conf:.2f}, Box: {bbox.tolist()}\")\n",
    "\n",
    "# Print detection results for the patched image\n",
    "print(\"\\nDetection Results on Patched Image:\")\n",
    "for i, bbox in enumerate(patched_detection_results.boxes.xyxy):\n",
    "    class_id = patched_detection_results.boxes.cls[i]\n",
    "    class_name = patched_detection_results.names[class_id.item() if isinstance(class_id, torch.Tensor) else class_id]\n",
    "    conf = patched_detection_results.boxes.conf[i]\n",
    "    print(f\"Class: {class_name}, Confidence: {conf:.2f}, Box: {bbox.tolist()}\")\n"
   ]
  },
  {
   "cell_type": "code",
   "execution_count": 108,
   "metadata": {},
   "outputs": [],
   "source": [
    "original_confidences = [detection_results.boxes.conf[i].item() for i in range(len(detection_results.boxes.xyxy))\n",
    "                        if detection_results.names[detection_results.boxes.cls[i].item()] == TARGET_CLASS]\n",
    "\n",
    "patched_confidences = [patched_detection_results.boxes.conf[i].item() for i in range(len(patched_detection_results.boxes.xyxy))\n",
    "                       if patched_detection_results.names[patched_detection_results.boxes.cls[i].item()] == TARGET_CLASS]"
   ]
  },
  {
   "cell_type": "code",
   "execution_count": 109,
   "metadata": {},
   "outputs": [
    {
     "name": "stdout",
     "output_type": "stream",
     "text": [
      "\n"
     ]
    },
    {
     "name": "stdout",
     "output_type": "stream",
     "text": [
      "0: 448x640 3 cars, 2 trucks, 17.0ms\n",
      "Speed: 0.0ms preprocess, 17.0ms inference, 5.0ms postprocess per image at shape (1, 3, 448, 640)\n"
     ]
    }
   ],
   "source": [
    "def generate_random_patch(size):\n",
    "    random_image = Image.fromarray(\n",
    "        np.random.randint(0, 255, (size[1], size[0], 3), dtype=np.uint8)\n",
    "    )\n",
    "    return random_image\n",
    "\n",
    "\n",
    "random_patch = generate_random_patch(patch.size)\n",
    "random_patch_tensor = to_tensor(random_patch)\n",
    "\n",
    "random_patched_image = apply_patch_to_image(\n",
    "    original_image.copy(),\n",
    "    random_patch_tensor,\n",
    "    detection_results,\n",
    "    resized_size,\n",
    "    target_class=TARGET_CLASS,\n",
    "    size_multiple=SIZE_MULTIPLE,\n",
    ")\n",
    "\n",
    "random_patched_detection_results, _ = detect_objects(random_patched_image, yolo_model)\n",
    "\n",
    "random_patched_confidences = [\n",
    "    random_patched_detection_results.boxes.conf[i].item()\n",
    "    for i in range(len(random_patched_detection_results.boxes.xyxy))\n",
    "    if random_patched_detection_results.names[\n",
    "        random_patched_detection_results.boxes.cls[i].item()\n",
    "    ]\n",
    "    == TARGET_CLASS\n",
    "]\n",
    "\n",
    "\n",
    "random_patched_image_with_boxes = draw_boxes(\n",
    "    random_patched_image.copy(),\n",
    "    random_patched_detection_results,\n",
    "    resized_size,\n",
    "    TARGET_CLASS,\n",
    ")\n",
    "\n",
    "random_patched_image_with_boxes.save(\"random_patched_image_with_boxes.jpg\")"
   ]
  },
  {
   "cell_type": "code",
   "execution_count": 110,
   "metadata": {},
   "outputs": [
    {
     "data": {
      "image/png": "[encoded data removed]",
      "text/plain": [
       "<Figure size 1000x600 with 1 Axes>"
      ]
     },
     "metadata": {},
     "output_type": "display_data"
    }
   ],
   "source": [
    "import matplotlib.pyplot as plt\n",
    "\n",
    "max_len = max(\n",
    "    len(original_confidences), len(patched_confidences), len(random_patched_confidences)\n",
    ")\n",
    "original_confidences += [0] * (max_len - len(original_confidences))\n",
    "patched_confidences += [0] * (max_len - len(patched_confidences))\n",
    "random_patched_confidences += [0] * (max_len - len(random_patched_confidences))\n",
    "\n",
    "indices = np.arange(max_len)\n",
    "\n",
    "plt.figure(figsize=(10, 6))\n",
    "bar_width = 0.25\n",
    "opacity = 0.8\n",
    "\n",
    "plt.bar(\n",
    "    indices - bar_width,\n",
    "    original_confidences,\n",
    "    bar_width,\n",
    "    alpha=opacity,\n",
    "    color=\"b\",\n",
    "    label=\"Original\",\n",
    ")\n",
    "plt.bar(\n",
    "    indices, patched_confidences, bar_width, alpha=opacity, color=\"r\", label=\"Patched\"\n",
    ")\n",
    "plt.bar(\n",
    "    indices + bar_width,\n",
    "    random_patched_confidences,\n",
    "    bar_width,\n",
    "    alpha=opacity,\n",
    "    color=\"g\",\n",
    "    label=\"Random Patched\",\n",
    ")\n",
    "\n",
    "plt.axhline(y=0.5, color=\"gray\", linestyle=\"--\", linewidth=1)\n",
    "plt.xlabel(\"Detection Instances\")\n",
    "plt.ylabel(\"Confidence Scores\")\n",
    "plt.title(\"Comparison of Detection Confidence Scores\")\n",
    "plt.xticks(indices, [f\"Obj. {i+1}\" for i in indices])\n",
    "plt.legend()\n",
    "\n",
    "plt.tight_layout()\n",
    "plt.show()"
   ]
  }
 ],
 "metadata": {
  "kernelspec": {
   "display_name": "YOLOv8",
   "language": "python",
   "name": "python3"
  },
  "language_info": {
   "codemirror_mode": {
    "name": "ipython",
    "version": 3
   },
   "file_extension": ".py",
   "mimetype": "text/x-python",
   "name": "python",
   "nbconvert_exporter": "python",
   "pygments_lexer": "ipython3",
   "version": "3.8.10"
  }
 },
 "nbformat": 4,
 "nbformat_minor": 2
}
