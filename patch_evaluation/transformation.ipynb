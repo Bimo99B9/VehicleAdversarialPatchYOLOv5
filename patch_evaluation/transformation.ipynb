{
 "cells": [
  {
   "cell_type": "code",
   "execution_count": 199,
   "metadata": {},
   "outputs": [],
   "source": [
    "from torchvision.transforms.functional import to_tensor\n",
    "from ultralytics import YOLO\n",
    "from PIL import Image\n",
    "import torch\n",
    "import numpy as np\n",
    "\n",
    "from transformation import detect_objects, draw_boxes, apply_patch_to_image"
   ]
  },
  {
   "cell_type": "markdown",
   "metadata": {},
   "source": [
    "# Patch image and prediction on the original image\n",
    "\n",
    "---"
   ]
  },
  {
   "cell_type": "code",
   "execution_count": 200,
   "metadata": {},
   "outputs": [],
   "source": [
    "image_path = \"original_images/real2.jpg\"\n",
    "original_image = Image.open(image_path)\n",
    "original_size = original_image.size\n",
    "\n",
    "patch_image_path = \"patches/v4tiny.png\"\n",
    "patch = Image.open(patch_image_path)\n",
    "\n",
    "yolo_model = YOLO(\"yolov8n.pt\")\n",
    "\n",
    "TARGET_CLASS = \"person\"\n",
    "SIZE_MULTIPLE = 0.75"
   ]
  },
  {
   "cell_type": "code",
   "execution_count": 201,
   "metadata": {},
   "outputs": [
    {
     "name": "stdout",
     "output_type": "stream",
     "text": [
      "\n",
      "0: 640x288 1 person, 2 books, 19.0ms\n",
      "Speed: 0.0ms preprocess, 19.0ms inference, 11.0ms postprocess per image at shape (1, 3, 640, 288)\n"
     ]
    }
   ],
   "source": [
    "# Step 1: Detect objects\n",
    "detection_results, resized_size = detect_objects(original_image, yolo_model)"
   ]
  },
  {
   "cell_type": "code",
   "execution_count": 202,
   "metadata": {},
   "outputs": [],
   "source": [
    "# Step 2: Draw boxes on the original image\n",
    "image_with_boxes = draw_boxes(\n",
    "    original_image.copy(), detection_results, resized_size, TARGET_CLASS\n",
    ")\n",
    "patch_tensor = to_tensor(patch)"
   ]
  },
  {
   "cell_type": "code",
   "execution_count": 203,
   "metadata": {},
   "outputs": [],
   "source": [
    "# Step 3: Apply the patch to the image\n",
    "patched_image = apply_patch_to_image(\n",
    "    original_image.copy(),\n",
    "    patch_tensor,\n",
    "    detection_results,\n",
    "    resized_size,\n",
    "    TARGET_CLASS,\n",
    "    size_multiple=SIZE_MULTIPLE,\n",
    "    patch_position=\"top\"\n",
    ")"
   ]
  },
  {
   "cell_type": "code",
   "execution_count": 204,
   "metadata": {},
   "outputs": [],
   "source": [
    "# Display or save the results\n",
    "image_with_boxes.save(\"image_with_boxes.jpg\")\n",
    "# patched_image.save(\"patched_image.jpg\")\n",
    "\n",
    "# Optionally display the images\n",
    "# image_with_boxes.show()\n",
    "# patched_image.show()"
   ]
  },
  {
   "cell_type": "markdown",
   "metadata": {},
   "source": [
    "# Predict on the patched image to test the patch\n",
    "\n",
    "---"
   ]
  },
  {
   "cell_type": "code",
   "execution_count": 205,
   "metadata": {},
   "outputs": [
    {
     "name": "stdout",
     "output_type": "stream",
     "text": [
      "\n",
      "0: 640x288 2 persons, 1 book, 20.0ms\n",
      "Speed: 1.0ms preprocess, 20.0ms inference, 11.0ms postprocess per image at shape (1, 3, 640, 288)\n"
     ]
    }
   ],
   "source": [
    "# Step 4: Detect objects in the patched image\n",
    "patched_detection_results, _ = detect_objects(patched_image, yolo_model)\n",
    "\n",
    "# Step 5: Draw boxes on the patched image based on the new detections\n",
    "patched_image_with_boxes = draw_boxes(\n",
    "    patched_image.copy(), patched_detection_results, resized_size, TARGET_CLASS\n",
    ")\n",
    "\n",
    "patched_image_with_boxes.save(\"patched_image_with_boxes.jpg\")\n",
    "# patched_image_with_boxes.show()"
   ]
  },
  {
   "cell_type": "code",
   "execution_count": 206,
   "metadata": {},
   "outputs": [
    {
     "name": "stdout",
     "output_type": "stream",
     "text": [
      "Detection Results on Original Image:\n",
      "Class: person, Confidence: 0.90, Box: [69.76278686523438, 96.04022216796875, 234.80032348632812, 617.2100219726562]\n",
      "Class: book, Confidence: 0.26, Box: [0.15807723999023438, 516.242919921875, 34.89358901977539, 566.408203125]\n",
      "Class: book, Confidence: 0.26, Box: [0.0, 515.476806640625, 24.35457420349121, 563.3135986328125]\n",
      "\n",
      "Detection Results on Patched Image:\n",
      "Class: person, Confidence: 0.84, Box: [68.67691040039062, 85.85107421875, 231.75845336914062, 622.8157958984375]\n",
      "Class: person, Confidence: 0.34, Box: [113.0650863647461, 89.78460693359375, 192.30599975585938, 195.94088745117188]\n",
      "Class: book, Confidence: 0.26, Box: [0.15428543090820312, 516.2868041992188, 35.03759002685547, 566.4386596679688]\n"
     ]
    }
   ],
   "source": [
    "# Print detection results for the original image\n",
    "print(\"Detection Results on Original Image:\")\n",
    "for i, bbox in enumerate(detection_results.boxes.xyxy):\n",
    "    class_id = detection_results.boxes.cls[i]\n",
    "    class_name = detection_results.names[class_id.item() if isinstance(class_id, torch.Tensor) else class_id]\n",
    "    conf = detection_results.boxes.conf[i]\n",
    "    print(f\"Class: {class_name}, Confidence: {conf:.2f}, Box: {bbox.tolist()}\")\n",
    "\n",
    "# Print detection results for the patched image\n",
    "print(\"\\nDetection Results on Patched Image:\")\n",
    "for i, bbox in enumerate(patched_detection_results.boxes.xyxy):\n",
    "    class_id = patched_detection_results.boxes.cls[i]\n",
    "    class_name = patched_detection_results.names[class_id.item() if isinstance(class_id, torch.Tensor) else class_id]\n",
    "    conf = patched_detection_results.boxes.conf[i]\n",
    "    print(f\"Class: {class_name}, Confidence: {conf:.2f}, Box: {bbox.tolist()}\")\n"
   ]
  },
  {
   "cell_type": "code",
   "execution_count": 207,
   "metadata": {},
   "outputs": [],
   "source": [
    "original_confidences = [detection_results.boxes.conf[i].item() for i in range(len(detection_results.boxes.xyxy))\n",
    "                        if detection_results.names[detection_results.boxes.cls[i].item()] == TARGET_CLASS]\n",
    "\n",
    "patched_confidences = [patched_detection_results.boxes.conf[i].item() for i in range(len(patched_detection_results.boxes.xyxy))\n",
    "                       if patched_detection_results.names[patched_detection_results.boxes.cls[i].item()] == TARGET_CLASS]"
   ]
  },
  {
   "cell_type": "code",
   "execution_count": 208,
   "metadata": {},
   "outputs": [
    {
     "name": "stdout",
     "output_type": "stream",
     "text": [
      "\n"
     ]
    },
    {
     "name": "stdout",
     "output_type": "stream",
     "text": [
      "0: 640x288 1 person, 2 books, 23.0ms\n",
      "Speed: 0.0ms preprocess, 23.0ms inference, 11.0ms postprocess per image at shape (1, 3, 640, 288)\n"
     ]
    }
   ],
   "source": [
    "def generate_random_patch(size):\n",
    "    random_image = Image.fromarray(\n",
    "        np.random.randint(0, 255, (size[1], size[0], 3), dtype=np.uint8)\n",
    "    )\n",
    "    return random_image\n",
    "\n",
    "\n",
    "random_patch = generate_random_patch(patch.size)\n",
    "random_patch_tensor = to_tensor(random_patch)\n",
    "\n",
    "random_patched_image = apply_patch_to_image(\n",
    "    original_image.copy(),\n",
    "    random_patch_tensor,\n",
    "    detection_results,\n",
    "    resized_size,\n",
    "    target_class=TARGET_CLASS,\n",
    "    size_multiple=SIZE_MULTIPLE,\n",
    "    patch_position=\"top\"\n",
    ")\n",
    "\n",
    "random_patched_detection_results, _ = detect_objects(random_patched_image, yolo_model)\n",
    "\n",
    "random_patched_confidences = [\n",
    "    random_patched_detection_results.boxes.conf[i].item()\n",
    "    for i in range(len(random_patched_detection_results.boxes.xyxy))\n",
    "    if random_patched_detection_results.names[\n",
    "        random_patched_detection_results.boxes.cls[i].item()\n",
    "    ]\n",
    "    == TARGET_CLASS\n",
    "]\n",
    "\n",
    "\n",
    "random_patched_image_with_boxes = draw_boxes(\n",
    "    random_patched_image.copy(),\n",
    "    random_patched_detection_results,\n",
    "    resized_size,\n",
    "    TARGET_CLASS,\n",
    ")\n",
    "\n",
    "random_patched_image_with_boxes.save(\"random_patched_image_with_boxes.jpg\")"
   ]
  },
  {
   "cell_type": "code",
   "execution_count": 209,
   "metadata": {},
   "outputs": [
    {
     "data": {
      "image/png": "[encoded data removed]",
      "text/plain": [
       "<Figure size 1000x600 with 1 Axes>"
      ]
     },
     "metadata": {},
     "output_type": "display_data"
    }
   ],
   "source": [
    "import matplotlib.pyplot as plt\n",
    "\n",
    "max_len = max(\n",
    "    len(original_confidences), len(patched_confidences), len(random_patched_confidences)\n",
    ")\n",
    "original_confidences += [0] * (max_len - len(original_confidences))\n",
    "patched_confidences += [0] * (max_len - len(patched_confidences))\n",
    "random_patched_confidences += [0] * (max_len - len(random_patched_confidences))\n",
    "\n",
    "indices = np.arange(max_len)\n",
    "\n",
    "plt.figure(figsize=(10, 6))\n",
    "bar_width = 0.25\n",
    "opacity = 0.8\n",
    "\n",
    "plt.bar(\n",
    "    indices - bar_width,\n",
    "    original_confidences,\n",
    "    bar_width,\n",
    "    alpha=opacity,\n",
    "    color=\"b\",\n",
    "    label=\"Original\",\n",
    ")\n",
    "plt.bar(\n",
    "    indices, patched_confidences, bar_width, alpha=opacity, color=\"r\", label=\"Patched\"\n",
    ")\n",
    "plt.bar(\n",
    "    indices + bar_width,\n",
    "    random_patched_confidences,\n",
    "    bar_width,\n",
    "    alpha=opacity,\n",
    "    color=\"g\",\n",
    "    label=\"Random Patched\",\n",
    ")\n",
    "\n",
    "plt.axhline(y=0.5, color=\"gray\", linestyle=\"--\", linewidth=1)\n",
    "plt.xlabel(\"Detection Instances\")\n",
    "plt.ylabel(\"Confidence Scores\")\n",
    "plt.title(\"Comparison of Detection Confidence Scores\")\n",
    "plt.xticks(indices, [f\"Obj. {i+1}\" for i in indices])\n",
    "plt.legend()\n",
    "\n",
    "plt.tight_layout()\n",
    "plt.show()"
   ]
  }
 ],
 "metadata": {
  "kernelspec": {
   "display_name": "YOLOv8",
   "language": "python",
   "name": "python3"
  },
  "language_info": {
   "codemirror_mode": {
    "name": "ipython",
    "version": 3
   },
   "file_extension": ".py",
   "mimetype": "text/x-python",
   "name": "python",
   "nbconvert_exporter": "python",
   "pygments_lexer": "ipython3",
   "version": "3.8.10"
  }
 },
 "nbformat": 4,
 "nbformat_minor": 2
}
